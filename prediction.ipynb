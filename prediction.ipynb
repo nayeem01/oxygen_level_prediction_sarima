{
 "cells": [
  {
   "cell_type": "code",
   "execution_count": 5,
   "metadata": {},
   "outputs": [],
   "source": [
    "import pandas as pda\n",
    "import numpy as np\n",
    "from sklearn.linear_model import LinearRegression\n",
    "import matplotlib.pyplot as plt"
   ]
  },
  {
   "cell_type": "markdown",
   "metadata": {},
   "source": [
    "# Reading dataset"
   ]
  },
  {
   "cell_type": "code",
   "execution_count": 6,
   "metadata": {},
   "outputs": [],
   "source": [
    "df = pda.read_csv('data.csv')"
   ]
  },
  {
   "cell_type": "code",
   "execution_count": 7,
   "metadata": {},
   "outputs": [
    {
     "data": {
      "text/html": [
       "<div>\n",
       "<style scoped>\n",
       "    .dataframe tbody tr th:only-of-type {\n",
       "        vertical-align: middle;\n",
       "    }\n",
       "\n",
       "    .dataframe tbody tr th {\n",
       "        vertical-align: top;\n",
       "    }\n",
       "\n",
       "    .dataframe thead th {\n",
       "        text-align: right;\n",
       "    }\n",
       "</style>\n",
       "<table border=\"1\" class=\"dataframe\">\n",
       "  <thead>\n",
       "    <tr style=\"text-align: right;\">\n",
       "      <th></th>\n",
       "      <th>temp</th>\n",
       "      <th>spcond (ms/cm)</th>\n",
       "      <th>ph</th>\n",
       "      <th>Ox</th>\n",
       "      <th>do_persent</th>\n",
       "      <th>turbidity</th>\n",
       "      <th>chlorophyll</th>\n",
       "      <th>phycocyanin</th>\n",
       "      <th>sysbattery</th>\n",
       "    </tr>\n",
       "  </thead>\n",
       "  <tbody>\n",
       "    <tr>\n",
       "      <th>count</th>\n",
       "      <td>11858.000000</td>\n",
       "      <td>11858.000000</td>\n",
       "      <td>11858.000000</td>\n",
       "      <td>11858.000000</td>\n",
       "      <td>11858.000000</td>\n",
       "      <td>11858.000000</td>\n",
       "      <td>11858.000000</td>\n",
       "      <td>11858.000000</td>\n",
       "      <td>11858.000000</td>\n",
       "    </tr>\n",
       "    <tr>\n",
       "      <th>mean</th>\n",
       "      <td>20.941906</td>\n",
       "      <td>1.510206</td>\n",
       "      <td>7.860956</td>\n",
       "      <td>9.126104</td>\n",
       "      <td>102.881943</td>\n",
       "      <td>2.449129</td>\n",
       "      <td>2.076148</td>\n",
       "      <td>0.940625</td>\n",
       "      <td>12.253828</td>\n",
       "    </tr>\n",
       "    <tr>\n",
       "      <th>std</th>\n",
       "      <td>3.233775</td>\n",
       "      <td>0.558131</td>\n",
       "      <td>0.562303</td>\n",
       "      <td>1.510925</td>\n",
       "      <td>19.087482</td>\n",
       "      <td>3.549913</td>\n",
       "      <td>1.057412</td>\n",
       "      <td>0.673713</td>\n",
       "      <td>0.544124</td>\n",
       "    </tr>\n",
       "    <tr>\n",
       "      <th>min</th>\n",
       "      <td>13.420000</td>\n",
       "      <td>0.690000</td>\n",
       "      <td>6.820000</td>\n",
       "      <td>5.580000</td>\n",
       "      <td>58.430000</td>\n",
       "      <td>-1.630000</td>\n",
       "      <td>0.630000</td>\n",
       "      <td>0.140000</td>\n",
       "      <td>6.500000</td>\n",
       "    </tr>\n",
       "    <tr>\n",
       "      <th>25%</th>\n",
       "      <td>18.490000</td>\n",
       "      <td>0.990000</td>\n",
       "      <td>7.330000</td>\n",
       "      <td>8.170000</td>\n",
       "      <td>88.790000</td>\n",
       "      <td>1.840000</td>\n",
       "      <td>1.410000</td>\n",
       "      <td>0.470000</td>\n",
       "      <td>12.030000</td>\n",
       "    </tr>\n",
       "    <tr>\n",
       "      <th>50%</th>\n",
       "      <td>21.060000</td>\n",
       "      <td>1.590000</td>\n",
       "      <td>7.870000</td>\n",
       "      <td>9.250000</td>\n",
       "      <td>103.860000</td>\n",
       "      <td>2.220000</td>\n",
       "      <td>1.790000</td>\n",
       "      <td>0.850000</td>\n",
       "      <td>12.320000</td>\n",
       "    </tr>\n",
       "    <tr>\n",
       "      <th>75%</th>\n",
       "      <td>23.720000</td>\n",
       "      <td>2.000000</td>\n",
       "      <td>8.300000</td>\n",
       "      <td>10.100000</td>\n",
       "      <td>114.450000</td>\n",
       "      <td>2.740000</td>\n",
       "      <td>2.360000</td>\n",
       "      <td>1.190000</td>\n",
       "      <td>12.550000</td>\n",
       "    </tr>\n",
       "    <tr>\n",
       "      <th>max</th>\n",
       "      <td>28.830000</td>\n",
       "      <td>2.560000</td>\n",
       "      <td>9.390000</td>\n",
       "      <td>14.390000</td>\n",
       "      <td>174.310000</td>\n",
       "      <td>279.660000</td>\n",
       "      <td>14.670000</td>\n",
       "      <td>10.890000</td>\n",
       "      <td>13.560000</td>\n",
       "    </tr>\n",
       "  </tbody>\n",
       "</table>\n",
       "</div>"
      ],
      "text/plain": [
       "              temp   spcond (ms/cm)            ph            Ox    do_persent  \\\n",
       "count  11858.000000    11858.000000  11858.000000  11858.000000  11858.000000   \n",
       "mean      20.941906        1.510206      7.860956      9.126104    102.881943   \n",
       "std        3.233775        0.558131      0.562303      1.510925     19.087482   \n",
       "min       13.420000        0.690000      6.820000      5.580000     58.430000   \n",
       "25%       18.490000        0.990000      7.330000      8.170000     88.790000   \n",
       "50%       21.060000        1.590000      7.870000      9.250000    103.860000   \n",
       "75%       23.720000        2.000000      8.300000     10.100000    114.450000   \n",
       "max       28.830000        2.560000      9.390000     14.390000    174.310000   \n",
       "\n",
       "         turbidity   chlorophyll   phycocyanin     sysbattery  \n",
       "count  11858.000000  11858.000000  11858.000000  11858.000000  \n",
       "mean       2.449129      2.076148      0.940625     12.253828  \n",
       "std        3.549913      1.057412      0.673713      0.544124  \n",
       "min       -1.630000      0.630000      0.140000      6.500000  \n",
       "25%        1.840000      1.410000      0.470000     12.030000  \n",
       "50%        2.220000      1.790000      0.850000     12.320000  \n",
       "75%        2.740000      2.360000      1.190000     12.550000  \n",
       "max      279.660000     14.670000     10.890000     13.560000  "
      ]
     },
     "execution_count": 7,
     "metadata": {},
     "output_type": "execute_result"
    }
   ],
   "source": [
    "df.describe()"
   ]
  },
  {
   "cell_type": "markdown",
   "metadata": {},
   "source": [
    "# Cheacking correlation is in -1 to 1"
   ]
  },
  {
   "cell_type": "code",
   "execution_count": 8,
   "metadata": {},
   "outputs": [
    {
     "data": {
      "text/html": [
       "<div>\n",
       "<style scoped>\n",
       "    .dataframe tbody tr th:only-of-type {\n",
       "        vertical-align: middle;\n",
       "    }\n",
       "\n",
       "    .dataframe tbody tr th {\n",
       "        vertical-align: top;\n",
       "    }\n",
       "\n",
       "    .dataframe thead th {\n",
       "        text-align: right;\n",
       "    }\n",
       "</style>\n",
       "<table border=\"1\" class=\"dataframe\">\n",
       "  <thead>\n",
       "    <tr style=\"text-align: right;\">\n",
       "      <th></th>\n",
       "      <th>temp</th>\n",
       "      <th>spcond (ms/cm)</th>\n",
       "      <th>ph</th>\n",
       "      <th>Ox</th>\n",
       "      <th>do_persent</th>\n",
       "      <th>turbidity</th>\n",
       "      <th>chlorophyll</th>\n",
       "      <th>phycocyanin</th>\n",
       "      <th>sysbattery</th>\n",
       "    </tr>\n",
       "  </thead>\n",
       "  <tbody>\n",
       "    <tr>\n",
       "      <th>temp</th>\n",
       "      <td>1.000000</td>\n",
       "      <td>-0.309181</td>\n",
       "      <td>0.377783</td>\n",
       "      <td>0.121258</td>\n",
       "      <td>0.446837</td>\n",
       "      <td>-0.013292</td>\n",
       "      <td>-0.220220</td>\n",
       "      <td>0.180565</td>\n",
       "      <td>0.553171</td>\n",
       "    </tr>\n",
       "    <tr>\n",
       "      <th>spcond (ms/cm)</th>\n",
       "      <td>-0.309181</td>\n",
       "      <td>1.000000</td>\n",
       "      <td>0.293552</td>\n",
       "      <td>0.313457</td>\n",
       "      <td>0.156739</td>\n",
       "      <td>0.021905</td>\n",
       "      <td>0.420438</td>\n",
       "      <td>0.107436</td>\n",
       "      <td>-0.065153</td>\n",
       "    </tr>\n",
       "    <tr>\n",
       "      <th>ph</th>\n",
       "      <td>0.377783</td>\n",
       "      <td>0.293552</td>\n",
       "      <td>1.000000</td>\n",
       "      <td>0.920925</td>\n",
       "      <td>0.955451</td>\n",
       "      <td>0.256044</td>\n",
       "      <td>0.403227</td>\n",
       "      <td>0.676690</td>\n",
       "      <td>0.350102</td>\n",
       "    </tr>\n",
       "    <tr>\n",
       "      <th>Ox</th>\n",
       "      <td>0.121258</td>\n",
       "      <td>0.313457</td>\n",
       "      <td>0.920925</td>\n",
       "      <td>1.000000</td>\n",
       "      <td>0.940846</td>\n",
       "      <td>0.289516</td>\n",
       "      <td>0.520148</td>\n",
       "      <td>0.668493</td>\n",
       "      <td>0.258131</td>\n",
       "    </tr>\n",
       "    <tr>\n",
       "      <th>do_persent</th>\n",
       "      <td>0.446837</td>\n",
       "      <td>0.156739</td>\n",
       "      <td>0.955451</td>\n",
       "      <td>0.940846</td>\n",
       "      <td>1.000000</td>\n",
       "      <td>0.266441</td>\n",
       "      <td>0.391506</td>\n",
       "      <td>0.669557</td>\n",
       "      <td>0.411199</td>\n",
       "    </tr>\n",
       "    <tr>\n",
       "      <th>turbidity</th>\n",
       "      <td>-0.013292</td>\n",
       "      <td>0.021905</td>\n",
       "      <td>0.256044</td>\n",
       "      <td>0.289516</td>\n",
       "      <td>0.266441</td>\n",
       "      <td>1.000000</td>\n",
       "      <td>0.047239</td>\n",
       "      <td>0.475749</td>\n",
       "      <td>0.042479</td>\n",
       "    </tr>\n",
       "    <tr>\n",
       "      <th>chlorophyll</th>\n",
       "      <td>-0.220220</td>\n",
       "      <td>0.420438</td>\n",
       "      <td>0.403227</td>\n",
       "      <td>0.520148</td>\n",
       "      <td>0.391506</td>\n",
       "      <td>0.047239</td>\n",
       "      <td>1.000000</td>\n",
       "      <td>0.222894</td>\n",
       "      <td>-0.223883</td>\n",
       "    </tr>\n",
       "    <tr>\n",
       "      <th>phycocyanin</th>\n",
       "      <td>0.180565</td>\n",
       "      <td>0.107436</td>\n",
       "      <td>0.676690</td>\n",
       "      <td>0.668493</td>\n",
       "      <td>0.669557</td>\n",
       "      <td>0.475749</td>\n",
       "      <td>0.222894</td>\n",
       "      <td>1.000000</td>\n",
       "      <td>0.173038</td>\n",
       "    </tr>\n",
       "    <tr>\n",
       "      <th>sysbattery</th>\n",
       "      <td>0.553171</td>\n",
       "      <td>-0.065153</td>\n",
       "      <td>0.350102</td>\n",
       "      <td>0.258131</td>\n",
       "      <td>0.411199</td>\n",
       "      <td>0.042479</td>\n",
       "      <td>-0.223883</td>\n",
       "      <td>0.173038</td>\n",
       "      <td>1.000000</td>\n",
       "    </tr>\n",
       "  </tbody>\n",
       "</table>\n",
       "</div>"
      ],
      "text/plain": [
       "                   temp   spcond (ms/cm)        ph        Ox  do_persent  \\\n",
       "temp            1.000000       -0.309181  0.377783  0.121258    0.446837   \n",
       "spcond (ms/cm) -0.309181        1.000000  0.293552  0.313457    0.156739   \n",
       "ph              0.377783        0.293552  1.000000  0.920925    0.955451   \n",
       "Ox              0.121258        0.313457  0.920925  1.000000    0.940846   \n",
       "do_persent      0.446837        0.156739  0.955451  0.940846    1.000000   \n",
       "turbidity      -0.013292        0.021905  0.256044  0.289516    0.266441   \n",
       "chlorophyll    -0.220220        0.420438  0.403227  0.520148    0.391506   \n",
       "phycocyanin     0.180565        0.107436  0.676690  0.668493    0.669557   \n",
       "sysbattery      0.553171       -0.065153  0.350102  0.258131    0.411199   \n",
       "\n",
       "                turbidity   chlorophyll   phycocyanin   sysbattery  \n",
       "temp             -0.013292     -0.220220      0.180565    0.553171  \n",
       "spcond (ms/cm)    0.021905      0.420438      0.107436   -0.065153  \n",
       "ph                0.256044      0.403227      0.676690    0.350102  \n",
       "Ox                0.289516      0.520148      0.668493    0.258131  \n",
       "do_persent        0.266441      0.391506      0.669557    0.411199  \n",
       "turbidity         1.000000      0.047239      0.475749    0.042479  \n",
       "chlorophyll       0.047239      1.000000      0.222894   -0.223883  \n",
       "phycocyanin       0.475749      0.222894      1.000000    0.173038  \n",
       "sysbattery        0.042479     -0.223883      0.173038    1.000000  "
      ]
     },
     "execution_count": 8,
     "metadata": {},
     "output_type": "execute_result"
    }
   ],
   "source": [
    "df.corr()"
   ]
  },
  {
   "cell_type": "markdown",
   "metadata": {},
   "source": [
    "# Ploting ph as x-axis and oxygen as y-axis"
   ]
  },
  {
   "cell_type": "code",
   "execution_count": 9,
   "metadata": {},
   "outputs": [
    {
     "data": {
      "text/plain": [
       "<matplotlib.collections.PathCollection at 0x27fec7dc978>"
      ]
     },
     "execution_count": 9,
     "metadata": {},
     "output_type": "execute_result"
    },
    {
     "data": {
      "image/png": "[encoded data removed]",
      "text/plain": [
       "<Figure size 432x288 with 1 Axes>"
      ]
     },
     "metadata": {
      "needs_background": "light"
     },
     "output_type": "display_data"
    }
   ],
   "source": [
    "%matplotlib inline\n",
    "plt.xlabel('pH')\n",
    "plt.ylabel('Oxygen')\n",
    "plt.scatter(df.ph,df.Ox,color='red',marker='+')"
   ]
  },
  {
   "cell_type": "markdown",
   "metadata": {},
   "source": [
    "# Data training "
   ]
  },
  {
   "cell_type": "code",
   "execution_count": 10,
   "metadata": {},
   "outputs": [
    {
     "data": {
      "text/plain": [
       "LinearRegression(copy_X=True, fit_intercept=True, n_jobs=None,\n",
       "         normalize=False)"
      ]
     },
     "execution_count": 10,
     "metadata": {},
     "output_type": "execute_result"
    }
   ],
   "source": [
    "ph = df[['ph']]\n",
    "ox = df[['Ox']]\n",
    "from sklearn.model_selection import train_test_split\n",
    "X = ph\n",
    "y = ox\n",
    "X_train, X_test, y_train, y_test = train_test_split(X, y, test_size=0.25, random_state=1)\n",
    "lm = LinearRegression()\n",
    "lm.fit(ph,ox)"
   ]
  },
  {
   "cell_type": "markdown",
   "metadata": {},
   "source": [
    "# testing our model"
   ]
  },
  {
   "cell_type": "code",
   "execution_count": 11,
   "metadata": {},
   "outputs": [
    {
     "data": {
      "text/plain": [
       "array([[7.3420602]])"
      ]
     },
     "execution_count": 11,
     "metadata": {},
     "output_type": "execute_result"
    }
   ],
   "source": [
    "lm.predict([[7.14]])"
   ]
  },
  {
   "cell_type": "markdown",
   "metadata": {},
   "source": [
    "# plotting pH value and predicted Oxygen value \n",
    "# shape is Y(dissolved_oxygen)= mx(ph)+c"
   ]
  },
  {
   "cell_type": "code",
   "execution_count": 12,
   "metadata": {},
   "outputs": [
    {
     "data": {
      "text/plain": [
       "[<matplotlib.lines.Line2D at 0x27fec83ca90>]"
      ]
     },
     "execution_count": 12,
     "metadata": {},
     "output_type": "execute_result"
    },
    {
     "data": {
      "image/png": "[encoded data removed]",
      "text/plain": [
       "<Figure size 432x288 with 1 Axes>"
      ]
     },
     "metadata": {
      "needs_background": "light"
     },
     "output_type": "display_data"
    }
   ],
   "source": [
    "%matplotlib inline\n",
    "plt.xlabel('pH', fontsize=20)\n",
    "plt.ylabel('Oxygen', fontsize=20)\n",
    "plt.scatter(df.ph,df.Ox,color='red',marker='+')\n",
    "plt.plot(df.ph,lm.predict(ph),color='blue')"
   ]
  },
  {
   "cell_type": "markdown",
   "metadata": {},
   "source": [
    "# Reading input pH value from csv file"
   ]
  },
  {
   "cell_type": "code",
   "execution_count": 13,
   "metadata": {},
   "outputs": [
    {
     "data": {
      "text/html": [
       "<div>\n",
       "<style scoped>\n",
       "    .dataframe tbody tr th:only-of-type {\n",
       "        vertical-align: middle;\n",
       "    }\n",
       "\n",
       "    .dataframe tbody tr th {\n",
       "        vertical-align: top;\n",
       "    }\n",
       "\n",
       "    .dataframe thead th {\n",
       "        text-align: right;\n",
       "    }\n",
       "</style>\n",
       "<table border=\"1\" class=\"dataframe\">\n",
       "  <thead>\n",
       "    <tr style=\"text-align: right;\">\n",
       "      <th></th>\n",
       "      <th>ph</th>\n",
       "    </tr>\n",
       "  </thead>\n",
       "  <tbody>\n",
       "    <tr>\n",
       "      <th>0</th>\n",
       "      <td>6.98</td>\n",
       "    </tr>\n",
       "    <tr>\n",
       "      <th>1</th>\n",
       "      <td>6.83</td>\n",
       "    </tr>\n",
       "    <tr>\n",
       "      <th>2</th>\n",
       "      <td>6.88</td>\n",
       "    </tr>\n",
       "    <tr>\n",
       "      <th>3</th>\n",
       "      <td>6.61</td>\n",
       "    </tr>\n",
       "    <tr>\n",
       "      <th>4</th>\n",
       "      <td>6.92</td>\n",
       "    </tr>\n",
       "  </tbody>\n",
       "</table>\n",
       "</div>"
      ],
      "text/plain": [
       "     ph\n",
       "0  6.98\n",
       "1  6.83\n",
       "2  6.88\n",
       "3  6.61\n",
       "4  6.92"
      ]
     },
     "execution_count": 13,
     "metadata": {},
     "output_type": "execute_result"
    }
   ],
   "source": [
    "test = pda.read_csv(\"test1.csv\")\n",
    "test.head(5)"
   ]
  },
  {
   "cell_type": "markdown",
   "metadata": {},
   "source": [
    "# Predicting output as Oxygen"
   ]
  },
  {
   "cell_type": "code",
   "execution_count": 14,
   "metadata": {},
   "outputs": [
    {
     "data": {
      "text/plain": [
       "array([[6.94613193],\n",
       "       [6.57494917],\n",
       "       [6.69867675],\n",
       "       [6.03054779],\n",
       "       [6.79765882]])"
      ]
     },
     "execution_count": 14,
     "metadata": {},
     "output_type": "execute_result"
    }
   ],
   "source": [
    "p = lm.predict(test)\n",
    "p"
   ]
  },
  {
   "cell_type": "markdown",
   "metadata": {},
   "source": [
    "# Calculating accuracy using R-squared statistic "
   ]
  },
  {
   "cell_type": "code",
   "execution_count": 15,
   "metadata": {},
   "outputs": [
    {
     "name": "stdout",
     "output_type": "stream",
     "text": [
      "0.8430215710800057\n",
      "84.30215710800057\n"
     ]
    }
   ],
   "source": [
    "accuracy = lm.score(X_test, y_test)\n",
    "print (accuracy)\n",
    "print(accuracy*100)"
   ]
  },
  {
   "cell_type": "code",
   "execution_count": null,
   "metadata": {},
   "outputs": [],
   "source": []
  }
 ],
 "metadata": {
  "kernelspec": {
   "display_name": "Python 3",
   "language": "python",
   "name": "python3"
  },
  "language_info": {
   "codemirror_mode": {
    "name": "ipython",
    "version": 3
   },
   "file_extension": ".py",
   "mimetype": "text/x-python",
   "name": "python",
   "nbconvert_exporter": "python",
   "pygments_lexer": "ipython3",
   "version": "3.7.1"
  }
 },
 "nbformat": 4,
 "nbformat_minor": 2
}
