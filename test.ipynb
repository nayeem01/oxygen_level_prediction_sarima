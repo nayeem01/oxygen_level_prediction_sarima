{
 "cells": [
  {
   "cell_type": "code",
   "execution_count": 110,
   "metadata": {},
   "outputs": [],
   "source": [
    "import pandas as pda\n",
    "import numpy as np\n",
    "from sklearn.linear_model import LinearRegression\n",
    "import seaborn as sns"
   ]
  },
  {
   "cell_type": "code",
   "execution_count": 112,
   "metadata": {},
   "outputs": [],
   "source": [
    "df = pda.read_csv(\"data.csv\")\n"
   ]
  },
  {
   "cell_type": "code",
   "execution_count": 63,
   "metadata": {},
   "outputs": [
    {
     "data": {
      "text/html": [
       "<div>\n",
       "<style scoped>\n",
       "    .dataframe tbody tr th:only-of-type {\n",
       "        vertical-align: middle;\n",
       "    }\n",
       "\n",
       "    .dataframe tbody tr th {\n",
       "        vertical-align: top;\n",
       "    }\n",
       "\n",
       "    .dataframe thead th {\n",
       "        text-align: right;\n",
       "    }\n",
       "</style>\n",
       "<table border=\"1\" class=\"dataframe\">\n",
       "  <thead>\n",
       "    <tr style=\"text-align: right;\">\n",
       "      <th></th>\n",
       "      <th>date</th>\n",
       "      <th>time</th>\n",
       "      <th>temp</th>\n",
       "      <th>spcond (ms/cm)</th>\n",
       "      <th>ph</th>\n",
       "      <th>Ox</th>\n",
       "      <th>do_persent</th>\n",
       "      <th>turbidity</th>\n",
       "      <th>chlorophyll</th>\n",
       "      <th>phycocyanin</th>\n",
       "      <th>sysbattery</th>\n",
       "    </tr>\n",
       "  </thead>\n",
       "  <tbody>\n",
       "    <tr>\n",
       "      <th>0</th>\n",
       "      <td>5/11/2017</td>\n",
       "      <td>16:30:00</td>\n",
       "      <td>14.86</td>\n",
       "      <td>0.82</td>\n",
       "      <td>7.06</td>\n",
       "      <td>8.23</td>\n",
       "      <td>81.57</td>\n",
       "      <td>1.84</td>\n",
       "      <td>1.13</td>\n",
       "      <td>0.31</td>\n",
       "      <td>12.69</td>\n",
       "    </tr>\n",
       "    <tr>\n",
       "      <th>1</th>\n",
       "      <td>5/11/2017</td>\n",
       "      <td>16:45:00</td>\n",
       "      <td>14.89</td>\n",
       "      <td>0.82</td>\n",
       "      <td>7.06</td>\n",
       "      <td>8.23</td>\n",
       "      <td>81.66</td>\n",
       "      <td>1.81</td>\n",
       "      <td>1.12</td>\n",
       "      <td>0.29</td>\n",
       "      <td>12.56</td>\n",
       "    </tr>\n",
       "    <tr>\n",
       "      <th>2</th>\n",
       "      <td>5/11/2017</td>\n",
       "      <td>17:00:00</td>\n",
       "      <td>14.89</td>\n",
       "      <td>0.82</td>\n",
       "      <td>7.08</td>\n",
       "      <td>8.26</td>\n",
       "      <td>81.94</td>\n",
       "      <td>1.84</td>\n",
       "      <td>1.28</td>\n",
       "      <td>0.30</td>\n",
       "      <td>12.33</td>\n",
       "    </tr>\n",
       "    <tr>\n",
       "      <th>3</th>\n",
       "      <td>5/11/2017</td>\n",
       "      <td>17:15:00</td>\n",
       "      <td>14.79</td>\n",
       "      <td>0.82</td>\n",
       "      <td>7.10</td>\n",
       "      <td>8.23</td>\n",
       "      <td>81.39</td>\n",
       "      <td>1.93</td>\n",
       "      <td>1.22</td>\n",
       "      <td>0.31</td>\n",
       "      <td>12.27</td>\n",
       "    </tr>\n",
       "    <tr>\n",
       "      <th>4</th>\n",
       "      <td>5/11/2017</td>\n",
       "      <td>17:30:00</td>\n",
       "      <td>14.86</td>\n",
       "      <td>0.82</td>\n",
       "      <td>7.11</td>\n",
       "      <td>8.28</td>\n",
       "      <td>82.08</td>\n",
       "      <td>1.77</td>\n",
       "      <td>1.14</td>\n",
       "      <td>0.32</td>\n",
       "      <td>12.19</td>\n",
       "    </tr>\n",
       "  </tbody>\n",
       "</table>\n",
       "</div>"
      ],
      "text/plain": [
       "        date      time  temp   spcond (ms/cm)    ph    Ox  do_persent  \\\n",
       "0  5/11/2017  16:30:00  14.86            0.82  7.06  8.23       81.57   \n",
       "1  5/11/2017  16:45:00  14.89            0.82  7.06  8.23       81.66   \n",
       "2  5/11/2017  17:00:00  14.89            0.82  7.08  8.26       81.94   \n",
       "3  5/11/2017  17:15:00  14.79            0.82  7.10  8.23       81.39   \n",
       "4  5/11/2017  17:30:00  14.86            0.82  7.11  8.28       82.08   \n",
       "\n",
       "   turbidity   chlorophyll   phycocyanin   sysbattery  \n",
       "0        1.84          1.13          0.31       12.69  \n",
       "1        1.81          1.12          0.29       12.56  \n",
       "2        1.84          1.28          0.30       12.33  \n",
       "3        1.93          1.22          0.31       12.27  \n",
       "4        1.77          1.14          0.32       12.19  "
      ]
     },
     "execution_count": 63,
     "metadata": {},
     "output_type": "execute_result"
    }
   ],
   "source": [
    "df.head()"
   ]
  },
  {
   "cell_type": "code",
   "execution_count": 64,
   "metadata": {},
   "outputs": [
    {
     "data": {
      "text/html": [
       "<div>\n",
       "<style scoped>\n",
       "    .dataframe tbody tr th:only-of-type {\n",
       "        vertical-align: middle;\n",
       "    }\n",
       "\n",
       "    .dataframe tbody tr th {\n",
       "        vertical-align: top;\n",
       "    }\n",
       "\n",
       "    .dataframe thead th {\n",
       "        text-align: right;\n",
       "    }\n",
       "</style>\n",
       "<table border=\"1\" class=\"dataframe\">\n",
       "  <thead>\n",
       "    <tr style=\"text-align: right;\">\n",
       "      <th></th>\n",
       "      <th>temp</th>\n",
       "      <th>spcond (ms/cm)</th>\n",
       "      <th>ph</th>\n",
       "      <th>Ox</th>\n",
       "      <th>do_persent</th>\n",
       "      <th>turbidity</th>\n",
       "      <th>chlorophyll</th>\n",
       "      <th>phycocyanin</th>\n",
       "      <th>sysbattery</th>\n",
       "    </tr>\n",
       "  </thead>\n",
       "  <tbody>\n",
       "    <tr>\n",
       "      <th>temp</th>\n",
       "      <td>1.000000</td>\n",
       "      <td>-0.309181</td>\n",
       "      <td>0.377783</td>\n",
       "      <td>0.121258</td>\n",
       "      <td>0.446837</td>\n",
       "      <td>-0.013292</td>\n",
       "      <td>-0.220220</td>\n",
       "      <td>0.180565</td>\n",
       "      <td>0.553171</td>\n",
       "    </tr>\n",
       "    <tr>\n",
       "      <th>spcond (ms/cm)</th>\n",
       "      <td>-0.309181</td>\n",
       "      <td>1.000000</td>\n",
       "      <td>0.293552</td>\n",
       "      <td>0.313457</td>\n",
       "      <td>0.156739</td>\n",
       "      <td>0.021905</td>\n",
       "      <td>0.420438</td>\n",
       "      <td>0.107436</td>\n",
       "      <td>-0.065153</td>\n",
       "    </tr>\n",
       "    <tr>\n",
       "      <th>ph</th>\n",
       "      <td>0.377783</td>\n",
       "      <td>0.293552</td>\n",
       "      <td>1.000000</td>\n",
       "      <td>0.920925</td>\n",
       "      <td>0.955451</td>\n",
       "      <td>0.256044</td>\n",
       "      <td>0.403227</td>\n",
       "      <td>0.676690</td>\n",
       "      <td>0.350102</td>\n",
       "    </tr>\n",
       "    <tr>\n",
       "      <th>Ox</th>\n",
       "      <td>0.121258</td>\n",
       "      <td>0.313457</td>\n",
       "      <td>0.920925</td>\n",
       "      <td>1.000000</td>\n",
       "      <td>0.940846</td>\n",
       "      <td>0.289516</td>\n",
       "      <td>0.520148</td>\n",
       "      <td>0.668493</td>\n",
       "      <td>0.258131</td>\n",
       "    </tr>\n",
       "    <tr>\n",
       "      <th>do_persent</th>\n",
       "      <td>0.446837</td>\n",
       "      <td>0.156739</td>\n",
       "      <td>0.955451</td>\n",
       "      <td>0.940846</td>\n",
       "      <td>1.000000</td>\n",
       "      <td>0.266441</td>\n",
       "      <td>0.391506</td>\n",
       "      <td>0.669557</td>\n",
       "      <td>0.411199</td>\n",
       "    </tr>\n",
       "    <tr>\n",
       "      <th>turbidity</th>\n",
       "      <td>-0.013292</td>\n",
       "      <td>0.021905</td>\n",
       "      <td>0.256044</td>\n",
       "      <td>0.289516</td>\n",
       "      <td>0.266441</td>\n",
       "      <td>1.000000</td>\n",
       "      <td>0.047239</td>\n",
       "      <td>0.475749</td>\n",
       "      <td>0.042479</td>\n",
       "    </tr>\n",
       "    <tr>\n",
       "      <th>chlorophyll</th>\n",
       "      <td>-0.220220</td>\n",
       "      <td>0.420438</td>\n",
       "      <td>0.403227</td>\n",
       "      <td>0.520148</td>\n",
       "      <td>0.391506</td>\n",
       "      <td>0.047239</td>\n",
       "      <td>1.000000</td>\n",
       "      <td>0.222894</td>\n",
       "      <td>-0.223883</td>\n",
       "    </tr>\n",
       "    <tr>\n",
       "      <th>phycocyanin</th>\n",
       "      <td>0.180565</td>\n",
       "      <td>0.107436</td>\n",
       "      <td>0.676690</td>\n",
       "      <td>0.668493</td>\n",
       "      <td>0.669557</td>\n",
       "      <td>0.475749</td>\n",
       "      <td>0.222894</td>\n",
       "      <td>1.000000</td>\n",
       "      <td>0.173038</td>\n",
       "    </tr>\n",
       "    <tr>\n",
       "      <th>sysbattery</th>\n",
       "      <td>0.553171</td>\n",
       "      <td>-0.065153</td>\n",
       "      <td>0.350102</td>\n",
       "      <td>0.258131</td>\n",
       "      <td>0.411199</td>\n",
       "      <td>0.042479</td>\n",
       "      <td>-0.223883</td>\n",
       "      <td>0.173038</td>\n",
       "      <td>1.000000</td>\n",
       "    </tr>\n",
       "  </tbody>\n",
       "</table>\n",
       "</div>"
      ],
      "text/plain": [
       "                   temp   spcond (ms/cm)        ph        Ox  do_persent  \\\n",
       "temp            1.000000       -0.309181  0.377783  0.121258    0.446837   \n",
       "spcond (ms/cm) -0.309181        1.000000  0.293552  0.313457    0.156739   \n",
       "ph              0.377783        0.293552  1.000000  0.920925    0.955451   \n",
       "Ox              0.121258        0.313457  0.920925  1.000000    0.940846   \n",
       "do_persent      0.446837        0.156739  0.955451  0.940846    1.000000   \n",
       "turbidity      -0.013292        0.021905  0.256044  0.289516    0.266441   \n",
       "chlorophyll    -0.220220        0.420438  0.403227  0.520148    0.391506   \n",
       "phycocyanin     0.180565        0.107436  0.676690  0.668493    0.669557   \n",
       "sysbattery      0.553171       -0.065153  0.350102  0.258131    0.411199   \n",
       "\n",
       "                turbidity   chlorophyll   phycocyanin   sysbattery  \n",
       "temp             -0.013292     -0.220220      0.180565    0.553171  \n",
       "spcond (ms/cm)    0.021905      0.420438      0.107436   -0.065153  \n",
       "ph                0.256044      0.403227      0.676690    0.350102  \n",
       "Ox                0.289516      0.520148      0.668493    0.258131  \n",
       "do_persent        0.266441      0.391506      0.669557    0.411199  \n",
       "turbidity         1.000000      0.047239      0.475749    0.042479  \n",
       "chlorophyll       0.047239      1.000000      0.222894   -0.223883  \n",
       "phycocyanin       0.475749      0.222894      1.000000    0.173038  \n",
       "sysbattery        0.042479     -0.223883      0.173038    1.000000  "
      ]
     },
     "execution_count": 64,
     "metadata": {},
     "output_type": "execute_result"
    }
   ],
   "source": [
    "df.corr()"
   ]
  },
  {
   "cell_type": "code",
   "execution_count": 65,
   "metadata": {},
   "outputs": [],
   "source": [
    "import matplotlib.pyplot as plt\n",
    "%matplotlib inline\n"
   ]
  },
  {
   "cell_type": "code",
   "execution_count": 66,
   "metadata": {},
   "outputs": [
    {
     "data": {
      "image/png": "[encoded data removed]",
      "text/plain": [
       "<Figure size 432x288 with 1 Axes>"
      ]
     },
     "metadata": {
      "needs_background": "light"
     },
     "output_type": "display_data"
    }
   ],
   "source": [
    "\n",
    "df.plot(x='ph',y='Ox',style='+')\n",
    "plt.title('pH vs dissolve Oxygen')  \n",
    "plt.xlabel('P')  \n",
    "plt.ylabel('Percentage Score')  \n",
    "plt.show()"
   ]
  },
  {
   "cell_type": "code",
   "execution_count": 67,
   "metadata": {},
   "outputs": [],
   "source": [
    "ph = df[['ph']]\n",
    "ox = df[['Ox']]"
   ]
  },
  {
   "cell_type": "code",
   "execution_count": 94,
   "metadata": {},
   "outputs": [],
   "source": [
    "y = df.ph\n",
    "x = df.drop('ph', axis=1)"
   ]
  },
  {
   "cell_type": "code",
   "execution_count": 95,
   "metadata": {},
   "outputs": [
    {
     "name": "stdout",
     "output_type": "stream",
     "text": [
      "\n",
      "X_train:\n",
      "\n",
      "           date      time  temp   spcond (ms/cm)     Ox  do_persent  \\\n",
      "6194   9/2/2017  13:45:00  21.74            1.70  10.94      125.14   \n",
      "2940  7/30/2017  15:45:00  22.82            1.26   8.57       99.96   \n",
      "7944  9/20/2017  19:30:00  21.20            2.06   6.79       76.98   \n",
      "6225   9/2/2017  21:30:00  21.19            1.75  10.46      118.43   \n",
      "9039  10/2/2017   5:15:00  19.49            2.01   9.07       99.37   \n",
      "\n",
      "      turbidity   chlorophyll   phycocyanin   sysbattery  \n",
      "6194        4.50          2.47          1.49       13.27  \n",
      "2940        0.43          1.84          0.74       12.61  \n",
      "7944        1.36          1.44          0.28       12.27  \n",
      "6225        3.95          2.92          1.45       12.71  \n",
      "9039        1.87          2.21          0.86       12.16  \n",
      "(9487, 10)\n",
      "\n",
      "X_test:\n",
      "\n",
      "             date      time  temp   spcond (ms/cm)     Ox  do_persent  \\\n",
      "11821  10/31/2017  13:00:00  15.39            1.63   8.55       85.88   \n",
      "7991    9/21/2017   7:15:00  20.99            2.09   6.88       77.61   \n",
      "3296     8/3/2017   8:45:00  24.25            1.04  10.49      125.55   \n",
      "9231    10/4/2017   5:15:00  18.61            2.03   9.42      101.33   \n",
      "6763     9/8/2017  12:00:00  21.50            1.93  10.31      117.42   \n",
      "\n",
      "       turbidity   chlorophyll   phycocyanin   sysbattery  \n",
      "11821        4.83          1.49          0.63       10.60  \n",
      "7991         1.43          1.19          0.22       12.13  \n",
      "3296         3.03          2.22          1.47       12.27  \n",
      "9231         2.11          1.76          0.78       12.17  \n",
      "6763         4.09          2.15          1.97       13.01  \n",
      "(2372, 10)\n"
     ]
    }
   ],
   "source": [
    "X_train, X_test, y_train, y_test = train_test_split(x, y,test_size=0.2)\n",
    "print(\"\\nX_train:\\n\")\n",
    "print(X_train.head())\n",
    "print(X_train.shape)\n",
    "\n",
    "print(\"\\nX_test:\\n\")\n",
    "print(X_test.head())\n",
    "print(X_test.shape)"
   ]
  },
  {
   "cell_type": "code",
   "execution_count": 103,
   "metadata": {},
   "outputs": [
    {
     "data": {
      "text/plain": [
       "date              0\n",
       "time              0\n",
       "temp              1\n",
       "spcond (ms/cm)    1\n",
       "ph                1\n",
       "Ox                1\n",
       "do_persent        1\n",
       "turbidity         1\n",
       "chlorophyll       1\n",
       "phycocyanin       1\n",
       "sysbattery        1\n",
       "dtype: int64"
      ]
     },
     "execution_count": 103,
     "metadata": {},
     "output_type": "execute_result"
    }
   ],
   "source": [
    "df.isnull().sum()"
   ]
  },
  {
   "cell_type": "code",
   "execution_count": 104,
   "metadata": {},
   "outputs": [],
   "source": [
    "df=df.fillna(\" \")\n"
   ]
  },
  {
   "cell_type": "code",
   "execution_count": 105,
   "metadata": {},
   "outputs": [],
   "source": [
    "df.to_csv('data2.csv', index=False)"
   ]
  },
  {
   "cell_type": "code",
   "execution_count": 107,
   "metadata": {},
   "outputs": [],
   "source": [
    "df1 = pda.read_csv(\"data2.csv\")\n"
   ]
  },
  {
   "cell_type": "code",
   "execution_count": 108,
   "metadata": {},
   "outputs": [
    {
     "data": {
      "text/plain": [
       "date              0\n",
       "time              0\n",
       "temp              0\n",
       "spcond (ms/cm)    0\n",
       "ph                0\n",
       "Ox                0\n",
       "do_persent        0\n",
       "turbidity         0\n",
       "chlorophyll       0\n",
       "phycocyanin       0\n",
       "sysbattery        0\n",
       "dtype: int64"
      ]
     },
     "execution_count": 108,
     "metadata": {},
     "output_type": "execute_result"
    }
   ],
   "source": [
    "df1.isnull().sum()"
   ]
  },
  {
   "cell_type": "code",
   "execution_count": 115,
   "metadata": {},
   "outputs": [
    {
     "data": {
      "text/plain": [
       "0        8.23\n",
       "1        8.23\n",
       "2        8.26\n",
       "3        8.23\n",
       "4        8.28\n",
       "5        8.25\n",
       "6        8.24\n",
       "7        8.24\n",
       "8        8.23\n",
       "9        8.17\n",
       "10       8.14\n",
       "11       8.14\n",
       "12       8.12\n",
       "13       8.11\n",
       "14       8.11\n",
       "15       8.05\n",
       "16        8.0\n",
       "17       8.03\n",
       "18       8.03\n",
       "19        8.0\n",
       "20       8.01\n",
       "21       8.03\n",
       "22       8.03\n",
       "23       8.03\n",
       "24       8.05\n",
       "25       8.04\n",
       "26       8.04\n",
       "27       8.04\n",
       "28       8.03\n",
       "29       8.03\n",
       "         ... \n",
       "11829    8.52\n",
       "11830    8.58\n",
       "11831     8.6\n",
       "11832    8.55\n",
       "11833    8.61\n",
       "11834    8.59\n",
       "11835    8.65\n",
       "11836    8.61\n",
       "11837    8.57\n",
       "11838    8.52\n",
       "11839     8.5\n",
       "11840    8.48\n",
       "11841    8.47\n",
       "11842    8.46\n",
       "11843    8.45\n",
       "11844    8.46\n",
       "11845    8.45\n",
       "11846    8.45\n",
       "11847    8.43\n",
       "11848    8.43\n",
       "11849    8.44\n",
       "11850    8.45\n",
       "11851    8.46\n",
       "11852    8.46\n",
       "11853    8.45\n",
       "11854    8.47\n",
       "11855    8.46\n",
       "11856    8.47\n",
       "11857    8.45\n",
       "11858    8.46\n",
       "Name: Ox, Length: 11859, dtype: object"
      ]
     },
     "execution_count": 115,
     "metadata": {},
     "output_type": "execute_result"
    }
   ],
   "source": [
    "df1.Ox\n"
   ]
  },
  {
   "cell_type": "code",
   "execution_count": null,
   "metadata": {},
   "outputs": [],
   "source": []
  }
 ],
 "metadata": {
  "kernelspec": {
   "display_name": "Python 3",
   "language": "python",
   "name": "python3"
  },
  "language_info": {
   "codemirror_mode": {
    "name": "ipython",
    "version": 3
   },
   "file_extension": ".py",
   "mimetype": "text/x-python",
   "name": "python",
   "nbconvert_exporter": "python",
   "pygments_lexer": "ipython3",
   "version": "3.7.1"
  }
 },
 "nbformat": 4,
 "nbformat_minor": 2
}
